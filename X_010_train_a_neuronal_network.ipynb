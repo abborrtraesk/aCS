{
 "cells": [
  {
   "cell_type": "markdown",
   "metadata": {},
   "source": [
    "## KI ersetzt die Simulation\n",
    "\n",
    "Basierend auf den Winkeln der Motoren: $ x = (\\phi_1, \\phi_2) $ berechnet die Simulation die Position des TCP nach Verformung $y=(TCP_x, TCP_y)$.\n",
    "\n",
    "Eine KI soll im Folgenden trainiert werden, die Simulation zu ersetzen und gleichfalls die TCP Position basierend auf den Motorwinkel vorherzusagen.\n",
    "\n",
    "Mit diesem Skript kann ein Neuronales Netz trainiert werden, diese Vorhersagen zu treffen.\n",
    "\n",
    "![sketch_TCP](img/sketch_TPC.png \"Skizze Motorwinkel und TCP Verschiebung\")"
   ]
  },
  {
   "cell_type": "code",
   "execution_count": null,
   "metadata": {},
   "outputs": [],
   "source": [
    "#Importing data (DON'T CHANGE)\n",
    "import os, numpy as np, random, pickle\n",
    "X_train = np.load(\"data/X_train.npy\")\n",
    "Y_train = np.load(\"data/Y_train.npy\")\n",
    "_X_val  = np.load(\"data/X_val.npy\"  )\n",
    "_Y_val  = np.load(\"data/Y_val.npy\"  )\n",
    "\n",
    "import numpy as np\n",
    "from sklearn.preprocessing import StandardScaler\n",
    "\n",
    "# Instantiate and fit the scaler\n",
    "scaler_X = StandardScaler()\n",
    "scaler_X.fit(np.concatenate((X_train,_X_val)))\n",
    "X_train = scaler_X.transform(X_train)\n",
    "_X_val = scaler_X.transform(_X_val)\n",
    "with open(f'data/scaler_X.pkl', 'wb') as f:\n",
    "    pickle.dump(scaler_X, f)"
   ]
  },
  {
   "cell_type": "code",
   "execution_count": null,
   "metadata": {},
   "outputs": [],
   "source": [
    "#Preparing data (DON'T CHANGE)\n",
    "import torch\n",
    "from X_999_functions_and_classes import MyDataset\n",
    "dataset = MyDataset(X_train,Y_train)\n",
    "# Convert data to PyTorch tensors\n",
    "X_val = torch.tensor(_X_val, dtype=torch.float32)\n",
    "Y_val = torch.tensor(_Y_val, dtype=torch.float32)\n",
    "# Print dataset shapes\n",
    "print(f'Training data shape: {X_train.shape}, {Y_train.shape}')\n",
    "print(f'Validation data shape: {X_val.shape}, {Y_val.shape}')"
   ]
  },
  {
   "cell_type": "code",
   "execution_count": null,
   "metadata": {},
   "outputs": [],
   "source": [
    "#Plot training data (DON'T CHANGE)\n",
    "import matplotlib.pyplot as plt\n",
    "import numpy as np\n",
    "\n",
    "x_values, y_values = zip(*Y_train[:,-2:])\n",
    "plt.scatter(x_values, y_values,marker=\".\",color=[[0,0.8,0]],s=0.1,label=\"Y_train\")\n",
    "\n",
    "x_range_all=(-0.5, 0.5)\n",
    "y_range_all=(-0.5, 0)\n",
    "\n",
    "plt.title(f\"n_training_samples: {len(x_values)}\")\n",
    "plt.xlabel(\"X\")\n",
    "plt.ylabel(\"Y\")\n",
    "plt.xlim(-0.5, 0.5)\n",
    "plt.ylim(-0.5, 0)\n",
    "plt.gca().set_aspect('equal')\n",
    "plt.legend()\n",
    "plt.show()"
   ]
  },
  {
   "cell_type": "code",
   "execution_count": null,
   "metadata": {},
   "outputs": [],
   "source": [
    "#Train the network\n",
    "from X_999_functions_and_classes import train_nn\n",
    "\n",
    "model,criterion,loss = train_nn(learning_rate   = 0.01,                 #change parameters here\n",
    "                                batch_size      = 32,                   #change parameters here\n",
    "                                layers          = [16,16],              #change parameters here\n",
    "                                epochs          = 5,                    #change parameters here\n",
    "                                dataset         = dataset,              \n",
    "                                X_val           = X_val,\n",
    "                                Y_val           = Y_val,\n",
    "                                input_size      = len(X_val[0]),\n",
    "                                output_size     = len(Y_val[0]),)\n",
    "print(loss)"
   ]
  },
  {
   "cell_type": "code",
   "execution_count": null,
   "metadata": {},
   "outputs": [],
   "source": [
    "#preprocess validation set (DON'T CHANGE)\n",
    "# scale the X values for predicting\n",
    "X_val_2_scaled = scaler_X.transform(X_val)\n",
    "X_val_2_scaled = torch.tensor(X_val_2_scaled, dtype=torch.float32)\n",
    "#do prediction\n",
    "model.eval() # Set the model to evaluation mode\n",
    "with torch.no_grad():\n",
    "    # Forward pass for validation set\n",
    "    Y_predicted = model(X_val)"
   ]
  },
  {
   "cell_type": "code",
   "execution_count": null,
   "metadata": {},
   "outputs": [],
   "source": [
    "#plot overview validation set (DON'T CHANGE)\n",
    "import matplotlib.pyplot as plt\n",
    "fig = plt.figure(figsize=(8, 8), dpi=150)\n",
    "ax = fig.add_subplot(111) \n",
    "ax.plot(Y_val[:,-2],Y_val[:,-1],color='green',linestyle='None',marker='.',markersize=1,linewidth=3,alpha=0.5,label=\"true path\") \n",
    "Y_predicted_plot = np.array(Y_predicted[0])\n",
    "ax.plot(Y_predicted[:,-2],Y_predicted[:,-1],color='red',linestyle='None',marker='.',markersize=1,linewidth=3,alpha=0.5,label=\"predicted path\") \n",
    "limits=[-0.5,0.5,-0.5,0.0]\n",
    "xlim_lower,xlim_upper,ylim_lower,ylim_upper = limits\n",
    "ax.set_aspect('equal', adjustable='box')\n",
    "ax.set_xlim([xlim_lower, xlim_upper])\n",
    "#ax.set_xticks(np.arange(xlim_lower,xlim_upper+1,500))\n",
    "ax.set_ylim([ylim_lower, ylim_upper])\n",
    "#ax.set_yticks(np.arange(ylim_lower,ylim_upper+1,500))\n",
    "ax.legend()\n",
    "ax.set_title(f\"\")"
   ]
  },
  {
   "cell_type": "code",
   "execution_count": null,
   "metadata": {},
   "outputs": [],
   "source": [
    "#plot detail validation set\n",
    "import matplotlib.pyplot as plt\n",
    "\n",
    "start_index = 10        #change parameters here\n",
    "end_index = 20          #change parameters here\n",
    "\n",
    "fig = plt.figure(figsize=(8, 8), dpi=150)\n",
    "ax = fig.add_subplot(111) \n",
    "ax.plot(Y_val[start_index:end_index,0::2],Y_val[start_index:end_index,1::2],color='green',linestyle='None',marker='.',markersize=3,linewidth=3,alpha=0.5,label=\"true path\") \n",
    "Y_predicted_plot = np.array(Y_predicted[0])\n",
    "ax.plot(Y_predicted[start_index:end_index,0::2],Y_predicted[start_index:end_index,1::2],color='red',linestyle='None',marker='.',markersize=3,linewidth=3,alpha=0.5,label=\"predicted path\") \n",
    "limits=[-0.5,0.5,-0.5,0.2]\n",
    "xlim_lower,xlim_upper,ylim_lower,ylim_upper = limits\n",
    "ax.set_aspect('equal', adjustable='box')\n",
    "ax.set_xlim([xlim_lower, xlim_upper])\n",
    "ax.set_ylim([ylim_lower, ylim_upper])\n",
    "ax.legend()\n",
    "ax.set_title(f\"\")"
   ]
  }
 ],
 "metadata": {
  "kernelspec": {
   "display_name": "Python 3.11.2 ('.venv': venv)",
   "language": "python",
   "name": "python3"
  },
  "language_info": {
   "codemirror_mode": {
    "name": "ipython",
    "version": 3
   },
   "file_extension": ".py",
   "mimetype": "text/x-python",
   "name": "python",
   "nbconvert_exporter": "python",
   "pygments_lexer": "ipython3",
   "version": "3.11.2"
  },
  "orig_nbformat": 4,
  "vscode": {
   "interpreter": {
    "hash": "526772a2dc74bfbe17c20d7a23c953846f256ffb1a86dca56d8bf3163f172b54"
   }
  }
 },
 "nbformat": 4,
 "nbformat_minor": 2
}
